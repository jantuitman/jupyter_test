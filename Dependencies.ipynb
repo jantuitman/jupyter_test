{
 "cells": [
  {
   "cell_type": "markdown",
   "metadata": {},
   "source": [
    "# Dependency management\n",
    "\n",
    "Voor volledige compatibiliteit met python is `pip` een betere package manager dan `conda`. `conda` biedt echter de mogelijkheid om een mooi begin te hebben met python3, een aantal Datascience packages, en jupyter notebook zelf al preinstalled. Tevens kan conda ook andere talen installeren, dus het is bijv. mogelijk om een R notebook naast een Python notebook te draaien als je bent begonnen met conda / Anaconda python.\n",
    "\n",
    "Gelukkig er is een manier om `pip` toch te gebtuiken uit Jupyter, zelfs wanneer geinstalleerd met (ana)conda.\n",
    "Zie dit hele uitgebreide artikel, https://jakevdp.github.io/blog/2017/12/05/installing-python-packages-from-jupyter/ , de korte samenvatting is dat je de `sys` module kunt gebruiken om de juiste python omgeving die Jupyter gebruikt (de anaconda omgeving dus), te vinden, en dan pip kunt opstarten vanuit die omgeving.\n",
    "\n",
    "\n",
    "Dit notebook is een testje om te zien of een notebook zelf als lockfile voor het team kan dienen.\n",
    "\n",
    "Het idee is om hier allemaal pip installs te doen. Ik maak een tweede notebook aan om dan te testen of de module die hier geinstalleerd is, ook gevonden kan worden.\n"
   ]
  },
  {
   "cell_type": "code",
   "execution_count": 2,
   "metadata": {},
   "outputs": [
    {
     "name": "stdout",
     "output_type": "stream",
     "text": [
      "Collecting pyfiglet\n",
      "\u001b[?25l  Downloading https://files.pythonhosted.org/packages/33/07/fcfdd7a2872f5b348953de35acce1544dab0c1e8368dca54279b1cde5c15/pyfiglet-0.8.post1-py2.py3-none-any.whl (865kB)\n",
      "\u001b[K     |████████████████████████████████| 870kB 2.0MB/s eta 0:00:01\n",
      "\u001b[?25hInstalling collected packages: pyfiglet\n",
      "Successfully installed pyfiglet-0.8.post1\n"
     ]
    }
   ],
   "source": [
    "# Install a pip package in the current Jupyter kernel\n",
    "# pyfiglet is een asciiart library, hier al een test module gebruikt om te kijken of importeren ook werkt.\n",
    "import sys\n",
    "!{sys.executable} -m pip install pyfiglet\n"
   ]
  },
  {
   "cell_type": "code",
   "execution_count": null,
   "metadata": {},
   "outputs": [],
   "source": []
  }
 ],
 "metadata": {
  "kernelspec": {
   "display_name": "Python 3",
   "language": "python",
   "name": "python3"
  },
  "language_info": {
   "codemirror_mode": {
    "name": "ipython",
    "version": 3
   },
   "file_extension": ".py",
   "mimetype": "text/x-python",
   "name": "python",
   "nbconvert_exporter": "python",
   "pygments_lexer": "ipython3",
   "version": "3.7.3"
  }
 },
 "nbformat": 4,
 "nbformat_minor": 2
}
