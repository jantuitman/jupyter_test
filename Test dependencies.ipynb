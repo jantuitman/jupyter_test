{
 "cells": [
  {
   "cell_type": "code",
   "execution_count": 1,
   "metadata": {},
   "outputs": [
    {
     "name": "stdout",
     "output_type": "stream",
     "text": [
      " _   _      _ _       _ _ \n",
      "| | | | ___| | | ___ | | |\n",
      "| |_| |/ _ \\ | |/ _ \\| | |\n",
      "|  _  |  __/ | | (_) |_|_|\n",
      "|_| |_|\\___|_|_|\\___/(_|_)\n",
      "                          \n",
      "\n"
     ]
    }
   ],
   "source": [
    "# deze is in het dependencies notebook gedefinieerd.\n",
    "import pyfiglet\n",
    "\n",
    "ascii_banner = pyfiglet.figlet_format(\"Hello!!\")\n",
    "print(ascii_banner)"
   ]
  },
  {
   "cell_type": "code",
   "execution_count": null,
   "metadata": {},
   "outputs": [],
   "source": []
  }
 ],
 "metadata": {
  "kernelspec": {
   "display_name": "Python 3",
   "language": "python",
   "name": "python3"
  },
  "language_info": {
   "codemirror_mode": {
    "name": "ipython",
    "version": 3
   },
   "file_extension": ".py",
   "mimetype": "text/x-python",
   "name": "python",
   "nbconvert_exporter": "python",
   "pygments_lexer": "ipython3",
   "version": "3.7.3"
  }
 },
 "nbformat": 4,
 "nbformat_minor": 2
}
